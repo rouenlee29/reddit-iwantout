{
 "cells": [
  {
   "cell_type": "code",
   "execution_count": 125,
   "metadata": {},
   "outputs": [],
   "source": [
    "import pandas as pd\n",
    "import re\n",
    "import csv\n",
    "from csv import writer\n",
    "import datetime\n",
    "pd.options.display.max_colwidth = 100"
   ]
  },
  {
   "cell_type": "code",
   "execution_count": 115,
   "metadata": {},
   "outputs": [],
   "source": [
    "# full data\n",
    "#csv = \"output/iwantout.csv\"\n",
    "\n",
    "# test data\n",
    "input_csv = \"output/sample_iwantout.csv\"\n",
    "\n",
    "output_csv = 'output/test_output.csv'"
   ]
  },
  {
   "cell_type": "code",
   "execution_count": 116,
   "metadata": {},
   "outputs": [],
   "source": [
    "col_names = [\"id\",\"title\", \"created\", \"num_comments\", \"url\", \"contents\"]\n",
    "df = pd.read_csv(input_csv, header = None, names = col_names, skiprows = 1)"
   ]
  },
  {
   "cell_type": "code",
   "execution_count": 126,
   "metadata": {},
   "outputs": [
    {
     "data": {
      "text/html": [
       "<div>\n",
       "<style scoped>\n",
       "    .dataframe tbody tr th:only-of-type {\n",
       "        vertical-align: middle;\n",
       "    }\n",
       "\n",
       "    .dataframe tbody tr th {\n",
       "        vertical-align: top;\n",
       "    }\n",
       "\n",
       "    .dataframe thead th {\n",
       "        text-align: right;\n",
       "    }\n",
       "</style>\n",
       "<table border=\"1\" class=\"dataframe\">\n",
       "  <thead>\n",
       "    <tr style=\"text-align: right;\">\n",
       "      <th></th>\n",
       "      <th>id</th>\n",
       "      <th>title</th>\n",
       "      <th>created</th>\n",
       "      <th>num_comments</th>\n",
       "      <th>url</th>\n",
       "      <th>contents</th>\n",
       "    </tr>\n",
       "  </thead>\n",
       "  <tbody>\n",
       "    <tr>\n",
       "      <th>0</th>\n",
       "      <td>g89w9a</td>\n",
       "      <td>[IWantOut] 25M Financial Analyst/Data Analyst Zimbabwe -&gt; South America</td>\n",
       "      <td>1.587913e+09</td>\n",
       "      <td>8</td>\n",
       "      <td>https://www.reddit.com/r/IWantOut/comments/g89w9a/iwantout_25m_financial_analystdata_analyst/</td>\n",
       "      <td>Hi, \\n\\nSo I currently live in Zimbabwe, but fear there aren't many opportunities here for growt...</td>\n",
       "    </tr>\n",
       "  </tbody>\n",
       "</table>\n",
       "</div>"
      ],
      "text/plain": [
       "       id  \\\n",
       "0  g89w9a   \n",
       "\n",
       "                                                                     title  \\\n",
       "0  [IWantOut] 25M Financial Analyst/Data Analyst Zimbabwe -> South America   \n",
       "\n",
       "        created  num_comments  \\\n",
       "0  1.587913e+09             8   \n",
       "\n",
       "                                                                                             url  \\\n",
       "0  https://www.reddit.com/r/IWantOut/comments/g89w9a/iwantout_25m_financial_analystdata_analyst/   \n",
       "\n",
       "                                                                                              contents  \n",
       "0  Hi, \\n\\nSo I currently live in Zimbabwe, but fear there aren't many opportunities here for growt...  "
      ]
     },
     "execution_count": 126,
     "metadata": {},
     "output_type": "execute_result"
    }
   ],
   "source": [
    "df.head(1)"
   ]
  },
  {
   "cell_type": "code",
   "execution_count": 118,
   "metadata": {},
   "outputs": [],
   "source": [
    "def extract_title(title):\n",
    "    try:\n",
    "        title = title.lower()\n",
    "        identity = re.findall(r\"[0-9][0-9][a-z]\", title)[0].strip()\n",
    "        job_and_countries = \" \".join(title.split(identity)[1:])\n",
    "        #countries = re.findall(r\"[a-z]+[\\s]?->[\\s]?[a-z]+\", job_and_countries)\n",
    "        countries = re.findall(r\"[a-z]+[\\s]?->[\\s]?.*\", job_and_countries)\n",
    "        job = \" \".join(job_and_countries.split(countries[0])).strip()\n",
    "        origin = countries[0].split(\"->\")[0].strip()\n",
    "        destination = countries[0].split(\"->\")[1].strip()\n",
    "        \n",
    "        return identity, origin, destination,job\n",
    "    \n",
    "    except:\n",
    "        \n",
    "        return None, None, None, None"
   ]
  },
  {
   "cell_type": "code",
   "execution_count": 124,
   "metadata": {},
   "outputs": [
    {
     "data": {
      "text/plain": [
       "'2020-04-26'"
      ]
     },
     "execution_count": 124,
     "metadata": {},
     "output_type": "execute_result"
    }
   ],
   "source": [
    "# convert \n",
    "def convert_date(dt)\n",
    "    try:\n",
    "        date = datetime.datetime.fromtimestamp(int(round(float(dt))))\n",
    "        return date.strftime(\"%Y-%m-%d\")\n",
    "    except: \n",
    "        return None"
   ]
  },
  {
   "cell_type": "code",
   "execution_count": 119,
   "metadata": {},
   "outputs": [],
   "source": [
    "def produce_row():\n",
    "    with open(input_csv,encoding='utf-8') as csvfile:\n",
    "        readCSV = csv.reader(csvfile, delimiter=',')\n",
    "        for row in readCSV:\n",
    "            index = row[0]\n",
    "            title = row[1]\n",
    "            created = row[2]\n",
    "            identity, origin, destination,job = extract_title(title)\n",
    "            created_dt = convert_date(created)\n",
    "            \n",
    "            yield [index,identity, origin, destination,job,created_dt]"
   ]
  },
  {
   "cell_type": "code",
   "execution_count": 120,
   "metadata": {},
   "outputs": [],
   "source": [
    "produce_row = produce_row()"
   ]
  },
  {
   "cell_type": "code",
   "execution_count": 121,
   "metadata": {},
   "outputs": [],
   "source": [
    "# Open file in append mode\n",
    "with open(output_csv, 'a+', newline='',encoding='utf-8') as write_obj:\n",
    "    # Create a writer object from csv module\n",
    "    \n",
    "    for r in produce_row:\n",
    "        # Add contents of list as last row in the csv file\n",
    "        csv_writer = writer(write_obj)\n",
    "        csv_writer.writerow(r)"
   ]
  },
  {
   "cell_type": "code",
   "execution_count": null,
   "metadata": {},
   "outputs": [],
   "source": []
  },
  {
   "cell_type": "code",
   "execution_count": 8,
   "metadata": {},
   "outputs": [],
   "source": [
    "error = []\n",
    "identities, origins, destinations, jobs = [], [], [], []"
   ]
  },
  {
   "cell_type": "code",
   "execution_count": 9,
   "metadata": {},
   "outputs": [],
   "source": [
    "for t in titles:\n",
    "    identity, origin, destination,job = extract_title(t)\n",
    "    \n",
    "    if identity is None:\n",
    "        error.append(t)\n",
    "    else:\n",
    "        #print(f\"{identity}, {origin}, {destination}, {job}\")\n",
    "        identities.append(identity)\n",
    "        origins.append(origin)\n",
    "        destinations.append(destination)\n",
    "        jobs.append(job)"
   ]
  },
  {
   "cell_type": "code",
   "execution_count": null,
   "metadata": {},
   "outputs": [],
   "source": [
    "df[\"identitie\"] = identities\n",
    "df[\"origin\"] = origins\n",
    "df[\"destination\"] = destinations\n",
    "df[\"job\"] = jobs"
   ]
  },
  {
   "cell_type": "code",
   "execution_count": null,
   "metadata": {},
   "outputs": [],
   "source": [
    "df[\"created_dt\"] = "
   ]
  },
  {
   "cell_type": "code",
   "execution_count": 12,
   "metadata": {},
   "outputs": [
    {
     "data": {
      "text/plain": [
       "('25m', 'turkey', 'australia or canada', 'journalist in')"
      ]
     },
     "execution_count": 12,
     "metadata": {},
     "output_type": "execute_result"
    }
   ],
   "source": [
    "#test = \"[IWantOut] 26M Data Scientist India->USA\"\n",
    "#test = \"[IWantOut] 24M Cybersecurity UK -> Australia\\\\Japan\\\\Korea\\\\Singapore\\\\Hawaii\\\\Dubai\\\\USA\\\\Germany\"\n",
    "#test = \"[IWantOut] 22F USA -> Canada\"\n",
    "#test = '[IWantOut] 21M ECE student Malaysia -> Munich, Germany'\n",
    "test = '[IWantOut]25M Journalist in Turkey ->Australia or Canada'\n",
    "extract_title(test)"
   ]
  },
  {
   "cell_type": "code",
   "execution_count": null,
   "metadata": {},
   "outputs": [],
   "source": []
  }
 ],
 "metadata": {
  "kernelspec": {
   "display_name": "Python 3",
   "language": "python",
   "name": "python3"
  },
  "language_info": {
   "codemirror_mode": {
    "name": "ipython",
    "version": 3
   },
   "file_extension": ".py",
   "mimetype": "text/x-python",
   "name": "python",
   "nbconvert_exporter": "python",
   "pygments_lexer": "ipython3",
   "version": "3.7.3"
  },
  "toc": {
   "base_numbering": 1,
   "nav_menu": {},
   "number_sections": true,
   "sideBar": true,
   "skip_h1_title": false,
   "title_cell": "Table of Contents",
   "title_sidebar": "Contents",
   "toc_cell": false,
   "toc_position": {},
   "toc_section_display": true,
   "toc_window_display": false
  },
  "varInspector": {
   "cols": {
    "lenName": 16,
    "lenType": 16,
    "lenVar": 40
   },
   "kernels_config": {
    "python": {
     "delete_cmd_postfix": "",
     "delete_cmd_prefix": "del ",
     "library": "var_list.py",
     "varRefreshCmd": "print(var_dic_list())"
    },
    "r": {
     "delete_cmd_postfix": ") ",
     "delete_cmd_prefix": "rm(",
     "library": "var_list.r",
     "varRefreshCmd": "cat(var_dic_list()) "
    }
   },
   "types_to_exclude": [
    "module",
    "function",
    "builtin_function_or_method",
    "instance",
    "_Feature"
   ],
   "window_display": false
  }
 },
 "nbformat": 4,
 "nbformat_minor": 2
}
