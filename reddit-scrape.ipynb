{
 "cells": [
  {
   "cell_type": "code",
   "execution_count": 2,
   "metadata": {},
   "outputs": [],
   "source": [
    "import praw\n",
    "import pandas as pd\n",
    "\n",
    "from iwantout import save_outputs_from_generator, get_data\n",
    "from config import my_client_id,my_client_secret,my_user_agent\n",
    "%load_ext autoreload\n",
    "%autoreload 2"
   ]
  },
  {
   "cell_type": "code",
   "execution_count": 3,
   "metadata": {},
   "outputs": [],
   "source": [
    "pd.options.display.max_colwidth = 100"
   ]
  },
  {
   "cell_type": "code",
   "execution_count": 4,
   "metadata": {},
   "outputs": [],
   "source": [
    "# for testing\n",
    "# output_csv = \"test.csv\"\n",
    "# limit = 10\n",
    "\n",
    "# first run 26th April 2020\n",
    "# output_csv = \"output/iwantout.csv\"\n",
    "# limit = None\n",
    "\n",
    "# second run 1st May 2020\n",
    "# output_csv = \"output/iwantout_v2.csv\"\n",
    "# limit = None\n",
    "# created_cutoff = 1587918768 # latest created date from first run \n",
    "\n",
    "# third run 7th May 2020\n",
    "output_csv = \"output/iwantout_v3.csv\"\n",
    "limit = None\n",
    "created_cutoff = 1588344064 # latest created date from second run "
   ]
  },
  {
   "cell_type": "code",
   "execution_count": 5,
   "metadata": {},
   "outputs": [],
   "source": [
    "reddit = praw.Reddit(client_id=my_client_id, client_secret=my_client_secret, user_agent=my_user_agent)"
   ]
  },
  {
   "cell_type": "code",
   "execution_count": 6,
   "metadata": {},
   "outputs": [],
   "source": [
    "data = get_data(reddit, limit, created_cutoff=created_cutoff)"
   ]
  },
  {
   "cell_type": "code",
   "execution_count": 7,
   "metadata": {},
   "outputs": [
    {
     "name": "stdout",
     "output_type": "stream",
     "text": [
      "wrote to output/iwantout_v3.csv\n"
     ]
    }
   ],
   "source": [
    "save_outputs_from_generator(output_csv, data, mode = 'a+', newline='', encoding='utf-8')"
   ]
  },
  {
   "cell_type": "code",
   "execution_count": 9,
   "metadata": {},
   "outputs": [],
   "source": [
    "# Read data\n",
    "col_names = [\"id\",\"title\", \"created\", \"num_comments\", \"url\", \"contents\"]\n",
    "df = pd.read_csv(output_csv, header = None, names = col_names, skiprows = 1)"
   ]
  },
  {
   "cell_type": "markdown",
   "metadata": {},
   "source": [
    "### Resources \n",
    "\n",
    "- [Medium blog on scrapping with PRAW](https://towardsdatascience.com/scraping-reddit-data-1c0af3040768)\n",
    "- [Official reddit scraping documentation](https://praw.readthedocs.io/en/latest/code_overview/models/submission.html)\n",
    "- [Countries and ISO codes](https://github.com/datasets/country-list/blob/master/data.csv)"
   ]
  }
 ],
 "metadata": {
  "kernelspec": {
   "display_name": "Python 3",
   "language": "python",
   "name": "python3"
  },
  "language_info": {
   "codemirror_mode": {
    "name": "ipython",
    "version": 3
   },
   "file_extension": ".py",
   "mimetype": "text/x-python",
   "name": "python",
   "nbconvert_exporter": "python",
   "pygments_lexer": "ipython3",
   "version": "3.7.3"
  },
  "toc": {
   "base_numbering": 1,
   "nav_menu": {},
   "number_sections": true,
   "sideBar": true,
   "skip_h1_title": false,
   "title_cell": "Table of Contents",
   "title_sidebar": "Contents",
   "toc_cell": false,
   "toc_position": {},
   "toc_section_display": true,
   "toc_window_display": false
  },
  "varInspector": {
   "cols": {
    "lenName": 16,
    "lenType": 16,
    "lenVar": 40
   },
   "kernels_config": {
    "python": {
     "delete_cmd_postfix": "",
     "delete_cmd_prefix": "del ",
     "library": "var_list.py",
     "varRefreshCmd": "print(var_dic_list())"
    },
    "r": {
     "delete_cmd_postfix": ") ",
     "delete_cmd_prefix": "rm(",
     "library": "var_list.r",
     "varRefreshCmd": "cat(var_dic_list()) "
    }
   },
   "types_to_exclude": [
    "module",
    "function",
    "builtin_function_or_method",
    "instance",
    "_Feature"
   ],
   "window_display": false
  }
 },
 "nbformat": 4,
 "nbformat_minor": 2
}
