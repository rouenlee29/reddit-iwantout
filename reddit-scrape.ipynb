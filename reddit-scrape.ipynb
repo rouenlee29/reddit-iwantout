{
 "cells": [
  {
   "cell_type": "code",
   "execution_count": 1,
   "metadata": {},
   "outputs": [],
   "source": [
    "import praw\n",
    "import pandas as pd"
   ]
  },
  {
   "cell_type": "code",
   "execution_count": 2,
   "metadata": {},
   "outputs": [],
   "source": [
    "from iwantout import scrape_iwantout"
   ]
  },
  {
   "cell_type": "code",
   "execution_count": 3,
   "metadata": {},
   "outputs": [],
   "source": [
    "from config import my_client_id,my_client_secret,my_user_agent\n",
    "%load_ext autoreload\n",
    "%autoreload 2"
   ]
  },
  {
   "cell_type": "code",
   "execution_count": 4,
   "metadata": {},
   "outputs": [],
   "source": [
    "reddit = praw.Reddit(client_id=my_client_id, client_secret=my_client_secret, user_agent=my_user_agent)"
   ]
  },
  {
   "cell_type": "code",
   "execution_count": 5,
   "metadata": {},
   "outputs": [],
   "source": [
    "write_filename = \"output/iwantout.csv\"\n",
    "limit = None"
   ]
  },
  {
   "cell_type": "code",
   "execution_count": 6,
   "metadata": {},
   "outputs": [
    {
     "name": "stdout",
     "output_type": "stream",
     "text": [
      "saved 546 posts to output/iwantout.csv\n",
      "0 failed ids\n"
     ]
    }
   ],
   "source": [
    "scrape_iwantout(reddit, limit, write_filename)"
   ]
  },
  {
   "cell_type": "code",
   "execution_count": 7,
   "metadata": {},
   "outputs": [],
   "source": [
    "col_names = [\"id\",\"title\", \"created\", \"num_comments\", \"url\", \"contents\"]\n",
    "df = pd.read_csv(write_filename, header = None, names = col_names, skiprows = 1)"
   ]
  },
  {
   "cell_type": "code",
   "execution_count": 8,
   "metadata": {},
   "outputs": [
    {
     "data": {
      "text/html": [
       "<div>\n",
       "<style scoped>\n",
       "    .dataframe tbody tr th:only-of-type {\n",
       "        vertical-align: middle;\n",
       "    }\n",
       "\n",
       "    .dataframe tbody tr th {\n",
       "        vertical-align: top;\n",
       "    }\n",
       "\n",
       "    .dataframe thead th {\n",
       "        text-align: right;\n",
       "    }\n",
       "</style>\n",
       "<table border=\"1\" class=\"dataframe\">\n",
       "  <thead>\n",
       "    <tr style=\"text-align: right;\">\n",
       "      <th></th>\n",
       "      <th>id</th>\n",
       "      <th>title</th>\n",
       "      <th>created</th>\n",
       "      <th>num_comments</th>\n",
       "      <th>url</th>\n",
       "      <th>contents</th>\n",
       "    </tr>\n",
       "  </thead>\n",
       "  <tbody>\n",
       "    <tr>\n",
       "      <th>0</th>\n",
       "      <td>g89w9a</td>\n",
       "      <td>[IWantOut] 25M Financial Analyst/Data Analyst ...</td>\n",
       "      <td>1.587913e+09</td>\n",
       "      <td>8</td>\n",
       "      <td>https://www.reddit.com/r/IWantOut/comments/g89...</td>\n",
       "      <td>Hi, \\n\\nSo I currently live in Zimbabwe, but f...</td>\n",
       "    </tr>\n",
       "    <tr>\n",
       "      <th>1</th>\n",
       "      <td>g83h6t</td>\n",
       "      <td>[IWantOut] 40M business owner USA -&gt; Netherlan...</td>\n",
       "      <td>1.587885e+09</td>\n",
       "      <td>9</td>\n",
       "      <td>https://www.reddit.com/r/IWantOut/comments/g83...</td>\n",
       "      <td>I want to buy a \\~€600k house and somehow get ...</td>\n",
       "    </tr>\n",
       "    <tr>\n",
       "      <th>2</th>\n",
       "      <td>g88ih5</td>\n",
       "      <td>[IWantOut] 35F Carer Belgium -&gt; UK</td>\n",
       "      <td>1.587906e+09</td>\n",
       "      <td>0</td>\n",
       "      <td>https://www.reddit.com/r/IWantOut/comments/g88...</td>\n",
       "      <td>I should clarify that I am from the UK but my ...</td>\n",
       "    </tr>\n",
       "    <tr>\n",
       "      <th>3</th>\n",
       "      <td>g7wiz6</td>\n",
       "      <td>[IWantOut] 23M Hospitality Major Kentucky -&gt; S...</td>\n",
       "      <td>1.587861e+09</td>\n",
       "      <td>31</td>\n",
       "      <td>https://www.reddit.com/r/IWantOut/comments/g7w...</td>\n",
       "      <td>Hello!! Looking for some advice here. I’m a 23...</td>\n",
       "    </tr>\n",
       "    <tr>\n",
       "      <th>4</th>\n",
       "      <td>g7y90x</td>\n",
       "      <td>[IWantOut] 30F Bartender USA -&gt; Europe</td>\n",
       "      <td>1.587867e+09</td>\n",
       "      <td>19</td>\n",
       "      <td>https://www.reddit.com/r/IWantOut/comments/g7y...</td>\n",
       "      <td>I want to try living somewhere new and experie...</td>\n",
       "    </tr>\n",
       "  </tbody>\n",
       "</table>\n",
       "</div>"
      ],
      "text/plain": [
       "       id                                              title       created  \\\n",
       "0  g89w9a  [IWantOut] 25M Financial Analyst/Data Analyst ...  1.587913e+09   \n",
       "1  g83h6t  [IWantOut] 40M business owner USA -> Netherlan...  1.587885e+09   \n",
       "2  g88ih5                 [IWantOut] 35F Carer Belgium -> UK  1.587906e+09   \n",
       "3  g7wiz6  [IWantOut] 23M Hospitality Major Kentucky -> S...  1.587861e+09   \n",
       "4  g7y90x             [IWantOut] 30F Bartender USA -> Europe  1.587867e+09   \n",
       "\n",
       "   num_comments                                                url  \\\n",
       "0             8  https://www.reddit.com/r/IWantOut/comments/g89...   \n",
       "1             9  https://www.reddit.com/r/IWantOut/comments/g83...   \n",
       "2             0  https://www.reddit.com/r/IWantOut/comments/g88...   \n",
       "3            31  https://www.reddit.com/r/IWantOut/comments/g7w...   \n",
       "4            19  https://www.reddit.com/r/IWantOut/comments/g7y...   \n",
       "\n",
       "                                            contents  \n",
       "0  Hi, \\n\\nSo I currently live in Zimbabwe, but f...  \n",
       "1  I want to buy a \\~€600k house and somehow get ...  \n",
       "2  I should clarify that I am from the UK but my ...  \n",
       "3  Hello!! Looking for some advice here. I’m a 23...  \n",
       "4  I want to try living somewhere new and experie...  "
      ]
     },
     "execution_count": 8,
     "metadata": {},
     "output_type": "execute_result"
    }
   ],
   "source": [
    "df.head()"
   ]
  },
  {
   "cell_type": "markdown",
   "metadata": {},
   "source": [
    "### Resources \n",
    "\n",
    "- https://towardsdatascience.com/scraping-reddit-data-1c0af3040768\n",
    "- https://praw.readthedocs.io/en/latest/code_overview/models/submission.html"
   ]
  },
  {
   "cell_type": "code",
   "execution_count": null,
   "metadata": {},
   "outputs": [],
   "source": []
  }
 ],
 "metadata": {
  "kernelspec": {
   "display_name": "Python 3",
   "language": "python",
   "name": "python3"
  },
  "language_info": {
   "codemirror_mode": {
    "name": "ipython",
    "version": 3
   },
   "file_extension": ".py",
   "mimetype": "text/x-python",
   "name": "python",
   "nbconvert_exporter": "python",
   "pygments_lexer": "ipython3",
   "version": "3.7.3"
  },
  "toc": {
   "base_numbering": 1,
   "nav_menu": {},
   "number_sections": true,
   "sideBar": true,
   "skip_h1_title": false,
   "title_cell": "Table of Contents",
   "title_sidebar": "Contents",
   "toc_cell": false,
   "toc_position": {},
   "toc_section_display": true,
   "toc_window_display": false
  },
  "varInspector": {
   "cols": {
    "lenName": 16,
    "lenType": 16,
    "lenVar": 40
   },
   "kernels_config": {
    "python": {
     "delete_cmd_postfix": "",
     "delete_cmd_prefix": "del ",
     "library": "var_list.py",
     "varRefreshCmd": "print(var_dic_list())"
    },
    "r": {
     "delete_cmd_postfix": ") ",
     "delete_cmd_prefix": "rm(",
     "library": "var_list.r",
     "varRefreshCmd": "cat(var_dic_list()) "
    }
   },
   "types_to_exclude": [
    "module",
    "function",
    "builtin_function_or_method",
    "instance",
    "_Feature"
   ],
   "window_display": false
  }
 },
 "nbformat": 4,
 "nbformat_minor": 2
}
