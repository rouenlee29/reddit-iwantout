{
 "cells": [
  {
   "cell_type": "code",
   "execution_count": 1,
   "metadata": {},
   "outputs": [],
   "source": [
    "import praw\n",
    "import pandas as pd\n",
    "\n",
    "from iwantout import save_outputs_from_generator, get_data\n",
    "from config import my_client_id,my_client_secret,my_user_agent\n",
    "%load_ext autoreload\n",
    "%autoreload 2"
   ]
  },
  {
   "cell_type": "code",
   "execution_count": 2,
   "metadata": {},
   "outputs": [],
   "source": [
    "#output_csv = \"output/iwantout.csv\"\n",
    "# limit = None\n",
    "\n",
    "# for testing\n",
    "output_csv = \"test.csv\"\n",
    "limit = 10"
   ]
  },
  {
   "cell_type": "code",
   "execution_count": 3,
   "metadata": {},
   "outputs": [],
   "source": [
    "reddit = praw.Reddit(client_id=my_client_id, client_secret=my_client_secret, user_agent=my_user_agent)"
   ]
  },
  {
   "cell_type": "code",
   "execution_count": 4,
   "metadata": {},
   "outputs": [],
   "source": [
    "data = get_data(reddit, limit)"
   ]
  },
  {
   "cell_type": "code",
   "execution_count": 5,
   "metadata": {},
   "outputs": [
    {
     "name": "stdout",
     "output_type": "stream",
     "text": [
      "wrote to test.csv\n"
     ]
    }
   ],
   "source": [
    "save_outputs_from_generator(output_csv, data, mode = 'a+', newline='', encoding='utf-8')"
   ]
  },
  {
   "cell_type": "code",
   "execution_count": 6,
   "metadata": {},
   "outputs": [],
   "source": [
    "col_names = [\"id\",\"title\", \"created\", \"num_comments\", \"url\", \"contents\"]\n",
    "df = pd.read_csv(output_csv, header = None, names = col_names, skiprows = 1)"
   ]
  },
  {
   "cell_type": "code",
   "execution_count": 7,
   "metadata": {},
   "outputs": [
    {
     "data": {
      "text/html": [
       "<div>\n",
       "<style scoped>\n",
       "    .dataframe tbody tr th:only-of-type {\n",
       "        vertical-align: middle;\n",
       "    }\n",
       "\n",
       "    .dataframe tbody tr th {\n",
       "        vertical-align: top;\n",
       "    }\n",
       "\n",
       "    .dataframe thead th {\n",
       "        text-align: right;\n",
       "    }\n",
       "</style>\n",
       "<table border=\"1\" class=\"dataframe\">\n",
       "  <thead>\n",
       "    <tr style=\"text-align: right;\">\n",
       "      <th></th>\n",
       "      <th>id</th>\n",
       "      <th>title</th>\n",
       "      <th>created</th>\n",
       "      <th>num_comments</th>\n",
       "      <th>url</th>\n",
       "      <th>contents</th>\n",
       "    </tr>\n",
       "  </thead>\n",
       "  <tbody>\n",
       "    <tr>\n",
       "      <th>0</th>\n",
       "      <td>g8jt8r</td>\n",
       "      <td>[Discussion] People who lived in both North Am...</td>\n",
       "      <td>1.587955e+09</td>\n",
       "      <td>260</td>\n",
       "      <td>https://www.reddit.com/r/IWantOut/comments/g8j...</td>\n",
       "      <td>NaN</td>\n",
       "    </tr>\n",
       "    <tr>\n",
       "      <th>1</th>\n",
       "      <td>g8yf4b</td>\n",
       "      <td>[Discussion] For people who moved from one of ...</td>\n",
       "      <td>1.588013e+09</td>\n",
       "      <td>23</td>\n",
       "      <td>https://www.reddit.com/r/IWantOut/comments/g8y...</td>\n",
       "      <td>NaN</td>\n",
       "    </tr>\n",
       "    <tr>\n",
       "      <th>2</th>\n",
       "      <td>g8m6nv</td>\n",
       "      <td>[IWantOut] 30F frontend developer US -&gt; German...</td>\n",
       "      <td>1.587963e+09</td>\n",
       "      <td>24</td>\n",
       "      <td>https://www.reddit.com/r/IWantOut/comments/g8m...</td>\n",
       "      <td>I'm interested in moving to Europe in about 2-...</td>\n",
       "    </tr>\n",
       "    <tr>\n",
       "      <th>3</th>\n",
       "      <td>g8x8jq</td>\n",
       "      <td>[IWantOut] 32M Clinical Counselor US -&gt; CZ</td>\n",
       "      <td>1.588007e+09</td>\n",
       "      <td>1</td>\n",
       "      <td>https://www.reddit.com/r/IWantOut/comments/g8x...</td>\n",
       "      <td>Good Morning, Reddit.\\n\\nI have a Bachelors de...</td>\n",
       "    </tr>\n",
       "    <tr>\n",
       "      <th>4</th>\n",
       "      <td>g8wd5x</td>\n",
       "      <td>[IWantOut] 20sM Singapore -&gt; USA</td>\n",
       "      <td>1.588003e+09</td>\n",
       "      <td>2</td>\n",
       "      <td>https://www.reddit.com/r/IWantOut/comments/g8w...</td>\n",
       "      <td>Hi all, I'm currently living in Singapore and ...</td>\n",
       "    </tr>\n",
       "  </tbody>\n",
       "</table>\n",
       "</div>"
      ],
      "text/plain": [
       "       id                                              title       created  \\\n",
       "0  g8jt8r  [Discussion] People who lived in both North Am...  1.587955e+09   \n",
       "1  g8yf4b  [Discussion] For people who moved from one of ...  1.588013e+09   \n",
       "2  g8m6nv  [IWantOut] 30F frontend developer US -> German...  1.587963e+09   \n",
       "3  g8x8jq         [IWantOut] 32M Clinical Counselor US -> CZ  1.588007e+09   \n",
       "4  g8wd5x                   [IWantOut] 20sM Singapore -> USA  1.588003e+09   \n",
       "\n",
       "   num_comments                                                url  \\\n",
       "0           260  https://www.reddit.com/r/IWantOut/comments/g8j...   \n",
       "1            23  https://www.reddit.com/r/IWantOut/comments/g8y...   \n",
       "2            24  https://www.reddit.com/r/IWantOut/comments/g8m...   \n",
       "3             1  https://www.reddit.com/r/IWantOut/comments/g8x...   \n",
       "4             2  https://www.reddit.com/r/IWantOut/comments/g8w...   \n",
       "\n",
       "                                            contents  \n",
       "0                                                NaN  \n",
       "1                                                NaN  \n",
       "2  I'm interested in moving to Europe in about 2-...  \n",
       "3  Good Morning, Reddit.\\n\\nI have a Bachelors de...  \n",
       "4  Hi all, I'm currently living in Singapore and ...  "
      ]
     },
     "execution_count": 7,
     "metadata": {},
     "output_type": "execute_result"
    }
   ],
   "source": [
    "df.head()"
   ]
  },
  {
   "cell_type": "markdown",
   "metadata": {},
   "source": [
    "### Resources \n",
    "\n",
    "- [Medium blog on scrapping with PRAW](https://towardsdatascience.com/scraping-reddit-data-1c0af3040768)\n",
    "- [Official reddit scraping documentation](https://praw.readthedocs.io/en/latest/code_overview/models/submission.html)\n",
    "- [Countries and ISO codes](https://github.com/datasets/country-list/blob/master/data.csv)"
   ]
  }
 ],
 "metadata": {
  "kernelspec": {
   "display_name": "Python 3",
   "language": "python",
   "name": "python3"
  },
  "language_info": {
   "codemirror_mode": {
    "name": "ipython",
    "version": 3
   },
   "file_extension": ".py",
   "mimetype": "text/x-python",
   "name": "python",
   "nbconvert_exporter": "python",
   "pygments_lexer": "ipython3",
   "version": "3.7.3"
  },
  "toc": {
   "base_numbering": 1,
   "nav_menu": {},
   "number_sections": true,
   "sideBar": true,
   "skip_h1_title": false,
   "title_cell": "Table of Contents",
   "title_sidebar": "Contents",
   "toc_cell": false,
   "toc_position": {},
   "toc_section_display": true,
   "toc_window_display": false
  },
  "varInspector": {
   "cols": {
    "lenName": 16,
    "lenType": 16,
    "lenVar": 40
   },
   "kernels_config": {
    "python": {
     "delete_cmd_postfix": "",
     "delete_cmd_prefix": "del ",
     "library": "var_list.py",
     "varRefreshCmd": "print(var_dic_list())"
    },
    "r": {
     "delete_cmd_postfix": ") ",
     "delete_cmd_prefix": "rm(",
     "library": "var_list.r",
     "varRefreshCmd": "cat(var_dic_list()) "
    }
   },
   "types_to_exclude": [
    "module",
    "function",
    "builtin_function_or_method",
    "instance",
    "_Feature"
   ],
   "window_display": false
  }
 },
 "nbformat": 4,
 "nbformat_minor": 2
}
