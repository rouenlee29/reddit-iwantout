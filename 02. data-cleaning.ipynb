{
 "cells": [
  {
   "cell_type": "code",
   "execution_count": 1,
   "metadata": {},
   "outputs": [],
   "source": [
    "import pandas as pd\n",
    "import re\n",
    "import datetime\n",
    "\n",
    "pd.options.display.max_colwidth = 100"
   ]
  },
  {
   "cell_type": "code",
   "execution_count": 2,
   "metadata": {},
   "outputs": [],
   "source": [
    "from iwantout import load_and_transform_raw_data,save_outputs_from_generator\n",
    "%load_ext autoreload\n",
    "%autoreload 2"
   ]
  },
  {
   "cell_type": "markdown",
   "metadata": {},
   "source": [
    "# Load and transform data"
   ]
  },
  {
   "cell_type": "code",
   "execution_count": 6,
   "metadata": {},
   "outputs": [],
   "source": [
    "# test data\n",
    "# raw_csvs = [\"output/sample_iwantout.csv\"]\n",
    "# output_csv = 'output/test_transformed.csv'\n",
    "\n",
    "# full data\n",
    "raw_csvs = [\"output/iwantout.csv\" # from first run \n",
    "            , \"output/iwantout_v2.csv\" # from second run\n",
    "            , \"output/iwantout_v3.csv\" # from third run\n",
    "           ]\n",
    "output_csv = \"output/transformed.csv\""
   ]
  },
  {
   "cell_type": "code",
   "execution_count": 7,
   "metadata": {},
   "outputs": [],
   "source": [
    "extract_data = load_and_transform_raw_data(raw_csvs,encoding='utf-8')"
   ]
  },
  {
   "cell_type": "code",
   "execution_count": 8,
   "metadata": {},
   "outputs": [
    {
     "name": "stdout",
     "output_type": "stream",
     "text": [
      "wrote to output/transformed.csv\n"
     ]
    }
   ],
   "source": [
    "save_outputs_from_generator(output_csv, extract_data)"
   ]
  },
  {
   "cell_type": "markdown",
   "metadata": {},
   "source": [
    "# Preview transformed data"
   ]
  },
  {
   "cell_type": "code",
   "execution_count": 9,
   "metadata": {},
   "outputs": [],
   "source": [
    "result = pd.read_csv(output_csv)"
   ]
  },
  {
   "cell_type": "code",
   "execution_count": 10,
   "metadata": {},
   "outputs": [
    {
     "name": "stdout",
     "output_type": "stream",
     "text": [
      "<class 'pandas.core.frame.DataFrame'>\n",
      "RangeIndex: 1010 entries, 0 to 1009\n",
      "Data columns (total 9 columns):\n",
      " #   Column               Non-Null Count  Dtype \n",
      "---  ------               --------------  ----- \n",
      " 0   index                1010 non-null   object\n",
      " 1   identity             1010 non-null   object\n",
      " 2   origin_country       938 non-null    object\n",
      " 3   origin_region        937 non-null    object\n",
      " 4   destination_country  877 non-null    object\n",
      " 5   destination_region   821 non-null    object\n",
      " 6   job                  665 non-null    object\n",
      " 7   created_dt           1010 non-null   object\n",
      " 8   contents             1010 non-null   object\n",
      "dtypes: object(9)\n",
      "memory usage: 71.1+ KB\n"
     ]
    }
   ],
   "source": [
    "result.info()"
   ]
  },
  {
   "cell_type": "code",
   "execution_count": 11,
   "metadata": {},
   "outputs": [
    {
     "data": {
      "text/html": [
       "<div>\n",
       "<style scoped>\n",
       "    .dataframe tbody tr th:only-of-type {\n",
       "        vertical-align: middle;\n",
       "    }\n",
       "\n",
       "    .dataframe tbody tr th {\n",
       "        vertical-align: top;\n",
       "    }\n",
       "\n",
       "    .dataframe thead th {\n",
       "        text-align: right;\n",
       "    }\n",
       "</style>\n",
       "<table border=\"1\" class=\"dataframe\">\n",
       "  <thead>\n",
       "    <tr style=\"text-align: right;\">\n",
       "      <th></th>\n",
       "      <th>index</th>\n",
       "      <th>identity</th>\n",
       "      <th>origin_country</th>\n",
       "      <th>origin_region</th>\n",
       "      <th>destination_country</th>\n",
       "      <th>destination_region</th>\n",
       "      <th>job</th>\n",
       "      <th>created_dt</th>\n",
       "      <th>contents</th>\n",
       "    </tr>\n",
       "  </thead>\n",
       "  <tbody>\n",
       "    <tr>\n",
       "      <th>0</th>\n",
       "      <td>g89w9a</td>\n",
       "      <td>25m</td>\n",
       "      <td>Zimbabwe</td>\n",
       "      <td>Africa</td>\n",
       "      <td>NaN</td>\n",
       "      <td>South America</td>\n",
       "      <td>financial analyst/data analyst</td>\n",
       "      <td>2020-04-26</td>\n",
       "      <td>Hi, \\n\\nSo I currently live in Zimbabwe, but fear there aren't many opportunities here for growt...</td>\n",
       "    </tr>\n",
       "    <tr>\n",
       "      <th>1</th>\n",
       "      <td>g83h6t</td>\n",
       "      <td>40m</td>\n",
       "      <td>United States</td>\n",
       "      <td>North America</td>\n",
       "      <td>Netherlands</td>\n",
       "      <td>Europe</td>\n",
       "      <td>business owner</td>\n",
       "      <td>2020-04-26</td>\n",
       "      <td>I want to buy a \\~€600k house and somehow get EU permanent residency for myself and my family (w...</td>\n",
       "    </tr>\n",
       "    <tr>\n",
       "      <th>2</th>\n",
       "      <td>g83h6t</td>\n",
       "      <td>40m</td>\n",
       "      <td>United States</td>\n",
       "      <td>North America</td>\n",
       "      <td>Ireland</td>\n",
       "      <td>Europe</td>\n",
       "      <td>business owner</td>\n",
       "      <td>2020-04-26</td>\n",
       "      <td>I want to buy a \\~€600k house and somehow get EU permanent residency for myself and my family (w...</td>\n",
       "    </tr>\n",
       "    <tr>\n",
       "      <th>3</th>\n",
       "      <td>g88ih5</td>\n",
       "      <td>35f</td>\n",
       "      <td>Belgium</td>\n",
       "      <td>Europe</td>\n",
       "      <td>United Kingdom</td>\n",
       "      <td>Europe</td>\n",
       "      <td>carer</td>\n",
       "      <td>2020-04-26</td>\n",
       "      <td>I should clarify that I am from the UK but my husband is Belgian. We have lived in Belgium for 1...</td>\n",
       "    </tr>\n",
       "    <tr>\n",
       "      <th>4</th>\n",
       "      <td>g7wiz6</td>\n",
       "      <td>23m</td>\n",
       "      <td>United States</td>\n",
       "      <td>North America</td>\n",
       "      <td>NaN</td>\n",
       "      <td>South America</td>\n",
       "      <td>hospitality major</td>\n",
       "      <td>2020-04-26</td>\n",
       "      <td>Hello!! Looking for some advice here. I’m a 23 year old soon to be college graduate in May. I’m ...</td>\n",
       "    </tr>\n",
       "  </tbody>\n",
       "</table>\n",
       "</div>"
      ],
      "text/plain": [
       "    index identity origin_country  origin_region destination_country  \\\n",
       "0  g89w9a      25m       Zimbabwe         Africa                 NaN   \n",
       "1  g83h6t      40m  United States  North America         Netherlands   \n",
       "2  g83h6t      40m  United States  North America             Ireland   \n",
       "3  g88ih5      35f        Belgium         Europe      United Kingdom   \n",
       "4  g7wiz6      23m  United States  North America                 NaN   \n",
       "\n",
       "  destination_region                             job  created_dt  \\\n",
       "0      South America  financial analyst/data analyst  2020-04-26   \n",
       "1             Europe                  business owner  2020-04-26   \n",
       "2             Europe                  business owner  2020-04-26   \n",
       "3             Europe                           carer  2020-04-26   \n",
       "4      South America               hospitality major  2020-04-26   \n",
       "\n",
       "                                                                                              contents  \n",
       "0  Hi, \\n\\nSo I currently live in Zimbabwe, but fear there aren't many opportunities here for growt...  \n",
       "1  I want to buy a \\~€600k house and somehow get EU permanent residency for myself and my family (w...  \n",
       "2  I want to buy a \\~€600k house and somehow get EU permanent residency for myself and my family (w...  \n",
       "3  I should clarify that I am from the UK but my husband is Belgian. We have lived in Belgium for 1...  \n",
       "4  Hello!! Looking for some advice here. I’m a 23 year old soon to be college graduate in May. I’m ...  "
      ]
     },
     "execution_count": 11,
     "metadata": {},
     "output_type": "execute_result"
    }
   ],
   "source": [
    "result.head()"
   ]
  }
 ],
 "metadata": {
  "kernelspec": {
   "display_name": "Python 3",
   "language": "python",
   "name": "python3"
  },
  "language_info": {
   "codemirror_mode": {
    "name": "ipython",
    "version": 3
   },
   "file_extension": ".py",
   "mimetype": "text/x-python",
   "name": "python",
   "nbconvert_exporter": "python",
   "pygments_lexer": "ipython3",
   "version": "3.7.3"
  },
  "toc": {
   "base_numbering": 1,
   "nav_menu": {},
   "number_sections": true,
   "sideBar": true,
   "skip_h1_title": false,
   "title_cell": "Table of Contents",
   "title_sidebar": "Contents",
   "toc_cell": false,
   "toc_position": {},
   "toc_section_display": true,
   "toc_window_display": false
  },
  "varInspector": {
   "cols": {
    "lenName": 16,
    "lenType": 16,
    "lenVar": 40
   },
   "kernels_config": {
    "python": {
     "delete_cmd_postfix": "",
     "delete_cmd_prefix": "del ",
     "library": "var_list.py",
     "varRefreshCmd": "print(var_dic_list())"
    },
    "r": {
     "delete_cmd_postfix": ") ",
     "delete_cmd_prefix": "rm(",
     "library": "var_list.r",
     "varRefreshCmd": "cat(var_dic_list()) "
    }
   },
   "types_to_exclude": [
    "module",
    "function",
    "builtin_function_or_method",
    "instance",
    "_Feature"
   ],
   "window_display": false
  }
 },
 "nbformat": 4,
 "nbformat_minor": 2
}
