{
 "cells": [
  {
   "cell_type": "code",
   "execution_count": 36,
   "metadata": {},
   "outputs": [],
   "source": [
    "import pandas as pd\n",
    "import re\n",
    "import datetime\n",
    "\n",
    "# plotting\n",
    "import matplotlib.pyplot as plt\n",
    "plt.style.use('classic')\n",
    "%matplotlib inline\n",
    "\n",
    "# for sankey diagram \n",
    "from sankey import genSankey\n",
    "import plotly\n",
    "#import plotly.plotly as py\n",
    "import chart_studio.plotly as py\n",
    "\n",
    "# pandas display \n",
    "pd.options.display.max_colwidth = 100"
   ]
  },
  {
   "cell_type": "code",
   "execution_count": 2,
   "metadata": {},
   "outputs": [],
   "source": [
    "from iwantout import load_and_transform_raw_data,save_outputs_from_generator\n",
    "%load_ext autoreload\n",
    "%autoreload 2"
   ]
  },
  {
   "cell_type": "code",
   "execution_count": 3,
   "metadata": {},
   "outputs": [],
   "source": [
    "# test data\n",
    "transformed_csv = 'output/test_transformed.csv'"
   ]
  },
  {
   "cell_type": "markdown",
   "metadata": {},
   "source": [
    "## Load transfromed data"
   ]
  },
  {
   "cell_type": "code",
   "execution_count": 27,
   "metadata": {},
   "outputs": [],
   "source": [
    "df = pd.read_csv(transformed_csv)"
   ]
  },
  {
   "cell_type": "markdown",
   "metadata": {},
   "source": [
    "## Trend analysis"
   ]
  },
  {
   "cell_type": "code",
   "execution_count": 28,
   "metadata": {},
   "outputs": [],
   "source": [
    "df['created_dt'] = pd.to_datetime(df['created_dt'])"
   ]
  },
  {
   "cell_type": "code",
   "execution_count": 29,
   "metadata": {},
   "outputs": [],
   "source": [
    " df['start_of_week'] = df['created_dt'] - df['created_dt'].dt.weekday.astype('timedelta64[D]')"
   ]
  },
  {
   "cell_type": "code",
   "execution_count": 34,
   "metadata": {},
   "outputs": [],
   "source": [
    "df_trend_analysis = df.groupby(['start_of_week', 'destination_regions']).agg('count')[['index']].reset_index().rename({'index': 'count'}, axis='columns')"
   ]
  },
  {
   "cell_type": "code",
   "execution_count": 54,
   "metadata": {},
   "outputs": [],
   "source": [
    "destination_regions = list(df['destination_regions'].dropna().unique())"
   ]
  },
  {
   "cell_type": "code",
   "execution_count": 55,
   "metadata": {},
   "outputs": [],
   "source": [
    "colours = ['b','g','r', 'm', 'y','k', 'w','c']"
   ]
  },
  {
   "cell_type": "code",
   "execution_count": 58,
   "metadata": {
    "scrolled": true
   },
   "outputs": [
    {
     "data": {
      "image/png": "[encoded data removed]",
      "text/plain": [
       "<Figure size 432x288 with 1 Axes>"
      ]
     },
     "metadata": {
      "needs_background": "light"
     },
     "output_type": "display_data"
    }
   ],
   "source": [
    "time_unit = 'start_of_week'\n",
    "fig, ax = plt.subplots()\n",
    "\n",
    "for i in range(len(destination_regions)):\n",
    "    dest = destination_regions[i]\n",
    "    df_plot = df_trend_analysis[df_trend_analysis['destination_regions'] == dest]\n",
    "    x, y = df_plot[time_unit], df_plot['count']\n",
    "    \n",
    "    \n",
    "    ax.plot(x1, y1, colours[i], label=dest)\n",
    "\n",
    "ax.axis('equal')\n",
    "leg = ax.legend();"
   ]
  },
  {
   "cell_type": "markdown",
   "metadata": {},
   "source": [
    "## Sankey diagram"
   ]
  },
  {
   "cell_type": "code",
   "execution_count": 58,
   "metadata": {},
   "outputs": [],
   "source": [
    "agg_cols = ['origin_region', 'origin_country', 'destination_regions', 'destination_countries']\n",
    "grouped = df.groupby(agg_cols).count()['index']"
   ]
  },
  {
   "cell_type": "code",
   "execution_count": 59,
   "metadata": {},
   "outputs": [],
   "source": [
    "grouped = grouped.reset_index().rename({'index': 'count'}, axis='columns')"
   ]
  },
  {
   "cell_type": "code",
   "execution_count": 65,
   "metadata": {},
   "outputs": [],
   "source": [
    "grouped[\"origin_region\"] = grouped.apply(lambda x: \"Origin: \" + x['origin_region'], axis = 1)"
   ]
  },
  {
   "cell_type": "code",
   "execution_count": 66,
   "metadata": {},
   "outputs": [],
   "source": [
    "grouped[\"origin_country\"] = grouped.apply(lambda x: \"Origin: \" + x['origin_country'], axis = 1)"
   ]
  },
  {
   "cell_type": "code",
   "execution_count": 67,
   "metadata": {},
   "outputs": [],
   "source": [
    "grouped[\"destination_regions\"] = grouped.apply(lambda x: \"Destination: \" + x['destination_regions'], axis = 1)"
   ]
  },
  {
   "cell_type": "code",
   "execution_count": 68,
   "metadata": {},
   "outputs": [],
   "source": [
    "grouped[\"destination_countries\"] = grouped.apply(lambda x: \"Destination: \" + x['destination_countries'], axis = 1)"
   ]
  },
  {
   "cell_type": "code",
   "execution_count": 95,
   "metadata": {},
   "outputs": [
    {
     "data": {
      "text/plain": [
       "'temp-plot.html'"
      ]
     },
     "execution_count": 95,
     "metadata": {},
     "output_type": "execute_result"
    }
   ],
   "source": [
    "fig = genSankey(grouped,cat_cols=agg_cols,value_cols='count',title='Where do redditors want to go?')\n",
    "plotly.offline.plot(fig, validate=False)"
   ]
  },
  {
   "cell_type": "markdown",
   "metadata": {},
   "source": [
    "## Keyword extraction"
   ]
  },
  {
   "cell_type": "code",
   "execution_count": 87,
   "metadata": {},
   "outputs": [],
   "source": [
    "from process_text import tokenize, remove_special_characters,spacy_tokeniser, clean_my_string"
   ]
  },
  {
   "cell_type": "code",
   "execution_count": 212,
   "metadata": {},
   "outputs": [],
   "source": [
    "def generate_document_by_region(dest_region):\n",
    "    contents = list(df[df['destination_regions'] == dest_region]['contents'].values)\n",
    "\n",
    "    # remove duplicates (exist because of exploded destination)\n",
    "    contents = list(set(contents))\n",
    "    \n",
    "    # clean and combine all contents into one list \n",
    "    cleaned_combined = []\n",
    "    for c in contents:\n",
    "        cleaned = clean_my_string(c)\n",
    "        cleaned_combined += cleaned\n",
    "    \n",
    "    return cleaned_combined"
   ]
  },
  {
   "cell_type": "code",
   "execution_count": null,
   "metadata": {},
   "outputs": [],
   "source": [
    "# TODO find all regions "
   ]
  },
  {
   "cell_type": "code",
   "execution_count": 215,
   "metadata": {},
   "outputs": [],
   "source": [
    "text_by_region = []\n",
    "for dest_region in [\"Europe\", \"Asia\"]:\n",
    "    cleaned_combined = generate_document_by_region(dest_region)\n",
    "    text_by_region.append(\" \".join(cleaned_combined))\n",
    "    "
   ]
  },
  {
   "cell_type": "code",
   "execution_count": 221,
   "metadata": {},
   "outputs": [],
   "source": [
    "from sklearn.feature_extraction.text import TfidfVectorizer\n",
    " \n",
    "vectorizer = TfidfVectorizer(tokenizer=clean_my_string)\n",
    "X = vectorizer.fit_transform(text_by_region)\n",
    "feature_names = vectorizer.get_feature_names()"
   ]
  },
  {
   "cell_type": "code",
   "execution_count": 228,
   "metadata": {},
   "outputs": [],
   "source": [
    "k = 10\n",
    "top = []\n",
    "for x in X.toarray():\n",
    "    pair = dict()\n",
    "    \n",
    "    n = np.array(x)\n",
    "    \n",
    "    # top k indexes with highest value\n",
    "    topk = np.argsort(n)[-k:]\n",
    "    tfidf = n[topk]\n",
    "    key = list(np.array(feature_names)[topk])\n",
    "    \n",
    "    for i,j in zip(key,tfidf):\n",
    "        pair[i] = j\n",
    "    top.append(pair)\n"
   ]
  },
  {
   "cell_type": "code",
   "execution_count": 244,
   "metadata": {},
   "outputs": [
    {
     "data": {
      "text/plain": [
       "[{'want': 0.13100088220547024,\n",
       "  'find': 0.13100088220547024,\n",
       "  'know': 0.1350946597743912,\n",
       "  'like': 0.14737599248115402,\n",
       "  'job': 0.1555635476189959,\n",
       "  've': 0.15965732518791687,\n",
       "  'live': 0.19240754573928442,\n",
       "  'country': 0.2087826560149682,\n",
       "  'year': 0.24562665413525672,\n",
       "  'work': 0.30293954010014995},\n",
       " {'major': 0.12149528148388125,\n",
       "  'like': 0.12149528148388125,\n",
       "  'thailand': 0.12806803419403126,\n",
       "  'archaeology': 0.12806803419403126,\n",
       "  'want': 0.15186910185485156,\n",
       "  'currently': 0.15186910185485156,\n",
       "  'study': 0.1822429222258219,\n",
       "  'work': 0.2429905629677625,\n",
       "  'jewish': 0.2561360683880625,\n",
       "  'year': 0.2733643833387328}]"
      ]
     },
     "execution_count": 244,
     "metadata": {},
     "output_type": "execute_result"
    }
   ],
   "source": [
    "top"
   ]
  },
  {
   "cell_type": "code",
   "execution_count": 242,
   "metadata": {},
   "outputs": [
    {
     "data": {
      "text/plain": [
       "'find find find '"
      ]
     },
     "execution_count": 242,
     "metadata": {},
     "output_type": "execute_result"
    }
   ],
   "source": [
    "(\"find\" + \" \") * 3"
   ]
  },
  {
   "cell_type": "code",
   "execution_count": 245,
   "metadata": {},
   "outputs": [],
   "source": [
    "for t in top:\n",
    "    String = \"\"\n",
    "    for word in t.keys():\n",
    "        String += (word + \" \") * int(t[word] * 100)\n",
    "        #print(String)"
   ]
  },
  {
   "cell_type": "code",
   "execution_count": 249,
   "metadata": {},
   "outputs": [
    {
     "data": {
      "text/plain": [
       "(-0.5, 1439.5, 1079.5, -0.5)"
      ]
     },
     "execution_count": 249,
     "metadata": {},
     "output_type": "execute_result"
    },
    {
     "data": {
      "image/png": "[encoded data removed]",
      "text/plain": [
       "<Figure size 576x576 with 1 Axes>"
      ]
     },
     "metadata": {
      "needs_background": "light"
     },
     "output_type": "display_data"
    }
   ],
   "source": [
    "from wordcloud import WordCloud\n",
    "cloud = WordCloud(width=1440, height=1080).generate_from_frequencies(top[0])\n",
    "plt.figure(figsize=(8, 8))\n",
    "plt.imshow(cloud)\n",
    "plt.axis('off')"
   ]
  },
  {
   "cell_type": "code",
   "execution_count": null,
   "metadata": {},
   "outputs": [],
   "source": []
  }
 ],
 "metadata": {
  "kernelspec": {
   "display_name": "Python 3",
   "language": "python",
   "name": "python3"
  },
  "language_info": {
   "codemirror_mode": {
    "name": "ipython",
    "version": 3
   },
   "file_extension": ".py",
   "mimetype": "text/x-python",
   "name": "python",
   "nbconvert_exporter": "python",
   "pygments_lexer": "ipython3",
   "version": "3.7.3"
  },
  "toc": {
   "base_numbering": 1,
   "nav_menu": {},
   "number_sections": true,
   "sideBar": true,
   "skip_h1_title": false,
   "title_cell": "Table of Contents",
   "title_sidebar": "Contents",
   "toc_cell": false,
   "toc_position": {},
   "toc_section_display": true,
   "toc_window_display": false
  },
  "varInspector": {
   "cols": {
    "lenName": 16,
    "lenType": 16,
    "lenVar": 40
   },
   "kernels_config": {
    "python": {
     "delete_cmd_postfix": "",
     "delete_cmd_prefix": "del ",
     "library": "var_list.py",
     "varRefreshCmd": "print(var_dic_list())"
    },
    "r": {
     "delete_cmd_postfix": ") ",
     "delete_cmd_prefix": "rm(",
     "library": "var_list.r",
     "varRefreshCmd": "cat(var_dic_list()) "
    }
   },
   "types_to_exclude": [
    "module",
    "function",
    "builtin_function_or_method",
    "instance",
    "_Feature"
   ],
   "window_display": false
  }
 },
 "nbformat": 4,
 "nbformat_minor": 2
}
